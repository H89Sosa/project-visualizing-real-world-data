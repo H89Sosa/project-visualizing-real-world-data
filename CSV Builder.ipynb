{
 "cells": [
  {
   "cell_type": "markdown",
   "metadata": {},
   "source": [
    "# 0. Setting up environment"
   ]
  },
  {
   "cell_type": "code",
   "execution_count": null,
   "metadata": {
    "ExecuteTime": {
     "end_time": "2020-03-15T17:51:58.903621Z",
     "start_time": "2020-03-15T17:51:57.765941Z"
    },
    "code_folding": [
     0
    ]
   },
   "outputs": [],
   "source": [
    "# importing required libraries\n",
    "\n",
    "import requests\n",
    "import json\n",
    "from bs4 import BeautifulSoup\n",
    "import pandas as pd\n",
    "from pandas.io.json import json_normalize\n",
    "import random\n",
    "import re\n",
    "import math\n",
    "import numpy as np\n",
    "import matplotlib.pyplot as plt\n",
    "import seaborn as sns\n",
    "import ipywidgets\n",
    "import geopy.geocoders\n",
    "from geopy.geocoders import Nominatim\n",
    "geopy.geocoders.options.default_user_agent = 'Mozilla/5.0 (Macintosh; Intel Mac OS X 10_13_6) AppleWebKit/537.36 (KHTML, like Gecko) Chrome/80.0.3987.132 Safari/537.36'\n",
    "import time\n",
    "from datetime import date\n"
   ]
  },
  {
   "cell_type": "code",
   "execution_count": null,
   "metadata": {
    "ExecuteTime": {
     "end_time": "2020-03-15T17:51:58.912801Z",
     "start_time": "2020-03-15T17:51:58.906121Z"
    },
    "code_folding": [
     0
    ]
   },
   "outputs": [],
   "source": [
    "def extract_genres():\n",
    "    url = 'https://www.discogs.com/search/?sort=want%2Cdesc&type=release'\n",
    "    html = requests.get(url).content\n",
    "    soup = BeautifulSoup(html, 'lxml')\n",
    "    tag = 'a'\n",
    "    genres_link = [element.get('href') for element in soup.find_all(tag, attrs={'href': re.compile(\"genre_exact=\")})]\n",
    "    genres_list = [str(re.findall('&genre_exact=\\w+\\+?\\-?\\w+', link))[2:-2] for link in genres_link ]\n",
    "    genres = list(set(genres_list))\n",
    "    styles_list = [element.get('href') for element in soup.find_all(tag, attrs={'href': re.compile(\"style_exact=\")})]\n",
    "    styles = [str(re.findall('&style_exact=\\w+\\+?\\w\\+?\\-?\\w+', link))[2:-2] for link in styles_list]\n",
    "    \n",
    "    genres = genres + styles\n",
    "    return genres"
   ]
  },
  {
   "cell_type": "code",
   "execution_count": null,
   "metadata": {
    "ExecuteTime": {
     "end_time": "2020-03-15T17:51:58.918951Z",
     "start_time": "2020-03-15T17:51:58.914667Z"
    },
    "code_folding": [
     0
    ]
   },
   "outputs": [],
   "source": [
    "def df_total_na(df):\n",
    "    '''\n",
    "    Returns the percentage of total NULL values in the dataset\n",
    "    '''\n",
    "    total_obs = df.count().sum()\n",
    "    total_nas = df.isna().sum().sum()\n",
    "    nas_percentage = total_nas *100 / total_obs\n",
    "    \n",
    "    print(f'Our dataset has {round(nas_percentage, 2)}% missing values overall' )"
   ]
  },
  {
   "cell_type": "code",
   "execution_count": null,
   "metadata": {
    "ExecuteTime": {
     "end_time": "2020-03-15T17:51:58.924488Z",
     "start_time": "2020-03-15T17:51:58.921383Z"
    },
    "code_folding": [
     0
    ]
   },
   "outputs": [],
   "source": [
    "def clean_artist(string):\n",
    "    '''\n",
    "    This function takes a string and erases the skipline '\\n', parenthesis '()' and stars '*'\n",
    "    '''\n",
    "    \n",
    "    new_str = re.sub('\\s\\(\\d\\)', '', string).replace('\\n\\n', '').replace('*', '')\n",
    "    \n",
    "    \n",
    "    return new_str"
   ]
  },
  {
   "cell_type": "code",
   "execution_count": null,
   "metadata": {
    "ExecuteTime": {
     "end_time": "2020-03-15T17:51:58.928993Z",
     "start_time": "2020-03-15T17:51:58.926184Z"
    },
    "code_folding": [
     0
    ]
   },
   "outputs": [],
   "source": [
    "def underscore_artist(artist):\n",
    "    '''\n",
    "    This function takes an artist name and transforms its string into \n",
    "    a 'Str_Str' format\n",
    "    '''\n",
    "    return artist.replace(' ', '_') "
   ]
  },
  {
   "cell_type": "code",
   "execution_count": null,
   "metadata": {
    "ExecuteTime": {
     "end_time": "2020-03-15T17:51:58.934161Z",
     "start_time": "2020-03-15T17:51:58.930507Z"
    },
    "code_folding": [
     0
    ]
   },
   "outputs": [],
   "source": [
    "def column_nulls_percentage(df):\n",
    "    '''\n",
    "    Returns a series indicating percentage of NULLS per column\n",
    "    '''\n",
    "    # .mean() gets the NULL values and divides it by the total length of the column\n",
    "    \n",
    "    return df.isna().mean().round(4) * 100"
   ]
  },
  {
   "cell_type": "code",
   "execution_count": null,
   "metadata": {
    "ExecuteTime": {
     "end_time": "2020-03-15T17:51:58.940263Z",
     "start_time": "2020-03-15T17:51:58.935629Z"
    },
    "code_folding": [
     0
    ]
   },
   "outputs": [],
   "source": [
    "def genre_link(string):\n",
    "    '''\n",
    "    This function takes as an input a genre or style name, and returns a piece of link depending on its category\n",
    "    ''' \n",
    "    \n",
    "    global genres \n",
    "    \n",
    "    genres = extract_genres()\n",
    "    \n",
    "    string = re.sub(' ', '+', string).title()\n",
    "    link_piece = ''\n",
    "    \n",
    "    if ('&genre_exact=' + string) in genres:\n",
    "        link_piece = ('&genre_exact=' + string)\n",
    "        print(link_piece)\n",
    "        \n",
    "    elif ('&style_exact=' + string) in genres:\n",
    "        link_piece = ('&style_exact=' + string)\n",
    "        \n",
    "    else:\n",
    "        raise ValueError('The selected genre doesnt exist')\n",
    "    \n",
    "    return link_piece"
   ]
  },
  {
   "cell_type": "code",
   "execution_count": null,
   "metadata": {
    "ExecuteTime": {
     "end_time": "2020-03-15T17:51:58.949122Z",
     "start_time": "2020-03-15T17:51:58.942623Z"
    },
    "code_folding": [
     0
    ]
   },
   "outputs": [],
   "source": [
    "def artist_scrape(n=10, genres= ''):\n",
    "    '''\n",
    "    This function scrapes the Discogs.com webpage to get 'n' artist names, sorted by popularity and filtered by genre.\n",
    "    Returns a list with artist names.\n",
    "    \n",
    "    Takes 3 arguments:\n",
    "    \n",
    "        genre= type str or type list: Selects the genre(s) you're interested on.\n",
    "        \n",
    "        n= type int: Indicates the number of artist returned\n",
    "        \n",
    "        decade = type int: Indicates the decade of the artist to be scraped (YYYY format)\n",
    "    \n",
    "    '''\n",
    "    \n",
    "    i = 0\n",
    "    \n",
    "    artists = []\n",
    "    \n",
    "    genre_link_list = [genre_link(genre) for genre in genres]\n",
    "    genres = ''.join(genre_link_list)\n",
    "    \n",
    "    \n",
    "    \n",
    "    while len(artists) < n:\n",
    "                \n",
    "        i += 1\n",
    "        \n",
    "        url = 'https://www.discogs.com/search/?sort=have%2Cdesc&limit=250&type=master' + genres + '&page=' + str(i)\n",
    "                \n",
    "        html = requests.get(url).content\n",
    "        soup = BeautifulSoup(html, 'lxml')\n",
    "        tag = 'h5'\n",
    "        \n",
    "        text = [element.text for element in soup.find_all(tag)]\n",
    "        clean_text = [clean_artist(elem) for elem in text[:-5]]\n",
    "        \n",
    "        for elem in clean_text:\n",
    "            if len(artists) < n:\n",
    "                if elem not in artists:\n",
    "                    artists.append(elem)\n",
    "                    \n",
    "    return artists"
   ]
  },
  {
   "cell_type": "code",
   "execution_count": null,
   "metadata": {
    "ExecuteTime": {
     "end_time": "2020-03-15T17:51:58.959114Z",
     "start_time": "2020-03-15T17:51:58.951738Z"
    },
    "code_folding": [
     0
    ]
   },
   "outputs": [],
   "source": [
    "def songkick_artist_id(artist_list):\n",
    "    '''\n",
    "    This function locates an Songkick ID number for a given list of artists. Then, it creates a tuple\n",
    "    with the band ID and the band name\n",
    "    \n",
    "    Takes two arguments:\n",
    "        \n",
    "        artist_list = type lst: List of artist names to be found. If an input it's a string, transform it\n",
    "                                into a list for a correct processing.\n",
    "                                \n",
    "        apikey = type str: Your Songkick API key\n",
    "    \n",
    "    The output is a tuple composed of two parts:\n",
    "    \n",
    "        output[0]= type int: List of Songkick IDs\n",
    "        output[1]= type str: Artist names\n",
    "        \n",
    "    '''\n",
    "    global APIKEY\n",
    "    \n",
    "    APIKEY = input('Please insert your Songkick API Key: ')\n",
    "        \n",
    "    print('Getting artists...')\n",
    "    \n",
    "    if type(artist_list) == str:\n",
    "        artist_list = [artist_list]\n",
    "    \n",
    "    IDs = []\n",
    "    not_found = []\n",
    "    \n",
    "    \n",
    "    for artist in artist_list:\n",
    "        \n",
    "        url = 'https://api.songkick.com/api/3.0/search/artists.json?apikey=' + APIKEY +'&query=' +underscore_artist(artist)\n",
    "        response = requests.get(url)\n",
    "        results = response.json()\n",
    "        try:\n",
    "            songkick_id = results['resultsPage']['results']['artist'][0]['id']\n",
    "            IDs.append((str(songkick_id), str(artist)))\n",
    "        except:\n",
    "            not_found.append(artist)\n",
    "        \n",
    "    print(f'Found {len(artist_list)} artists in the Discogs Database')\n",
    "        \n",
    "    if len(not_found) > 0:\n",
    "        print(f\"{len(not_found)} of {len(artist_list)} artists don't have shows information on Songkick, will be ignored\")\n",
    "        \n",
    "    return IDs"
   ]
  },
  {
   "cell_type": "code",
   "execution_count": null,
   "metadata": {
    "ExecuteTime": {
     "end_time": "2020-03-15T17:57:21.380964Z",
     "start_time": "2020-03-15T17:57:21.361915Z"
    },
    "code_folding": [
     0
    ]
   },
   "outputs": [],
   "source": [
    "def collect_data(artist_id_list):  \n",
    "    '''\n",
    "    This function iterates over an artist id list to get the links on each artist.\n",
    "    Calculates in how many pages the data is stored, and iterates on all of them.\n",
    "    Then, for each page, requests the information to the API and fetchs all the data we need.\n",
    "    Stores this data as a list of lists object to ensure compatibility with Pandas Dataframes.\n",
    "    '''\n",
    "    \n",
    "    artist_data = []\n",
    "    count = 0\n",
    "    \n",
    "    for artist in artist_id_list: \n",
    "                \n",
    "        try:\n",
    "            \n",
    "            url = 'https://musicbrainz.org/search?query='+underscore_artist(artist[1])+'&type=artist&method=indexed'\n",
    "\n",
    "            html = requests.get(url).content\n",
    "            soup = BeautifulSoup(html, 'lxml')\n",
    "\n",
    "            brainz_link = [element.get('href') for element in soup.select('td a')]\n",
    "            brainz_link = brainz_link[0]\n",
    "                    \n",
    "            url = 'https://musicbrainz.org/' + brainz_link\n",
    "            html = requests.get(url).content\n",
    "            soup = BeautifulSoup(html, 'lxml')\n",
    "        \n",
    "            founded = [element.text for element in soup.select('dd.begin-date')]\n",
    "            founded = re.findall('\\d{4}', founded[0])\n",
    "            founded = founded[0]\n",
    "                    \n",
    "            dissolved = [element.text for element in soup.select('dd.end-date')]\n",
    "        \n",
    "            if dissolved == []:\n",
    "                dissolved = 'Still active'\n",
    "            else:\n",
    "                dissolved = re.findall('\\d{4}', dissolved[0]) \n",
    "                dissolved = dissolved[0]\n",
    "  \n",
    "            origin = [element.text for element in soup.select('dd.area')]\n",
    "            origin = origin[0]\n",
    "        \n",
    "        \n",
    "            genre_list = [element.text for element in soup.select('.genre-list')]\n",
    "            genre_list = genre_list[0].split(',')\n",
    "            \n",
    "            if len(genre_list) == 1:\n",
    "                genre_list = [genre_list[0], '']\n",
    "            \n",
    "\n",
    "        \n",
    "        except:\n",
    "            \n",
    "            founded = None\n",
    "            dissolved = None\n",
    "            origin = None\n",
    "            genre_list = ['Unknown', 'Unknown']            \n",
    "\n",
    "\n",
    "        \n",
    "        count += 1\n",
    "        url = 'https://api.songkick.com/api/3.0/artists/'+str(artist[0]) +'/gigography.json?apikey=' + APIKEY\n",
    "        response = requests.get(url)\n",
    "        result = response.json()\n",
    "        \n",
    "        ## Iterating over different pages:\n",
    "        entries = result['resultsPage']['totalEntries'] \n",
    "        per_page = result['resultsPage']['perPage']\n",
    "        \n",
    "        pages_round= int(math.ceil(entries/per_page))        \n",
    "    \n",
    "        for z in range(pages_round):\n",
    "                \n",
    "                # Page 0 and Page 1 are equal, so we'll start from page 1\n",
    "                url = 'https://api.songkick.com/api/3.0/artists/'+str(artist[0]) +'/gigography.json?&page='+ str(z+1) +'&apikey=' + APIKEY\n",
    "                response = requests.get(url)\n",
    "                result = response.json()\n",
    "        \n",
    "    \n",
    "                for i in range(len(result['resultsPage']['results']['event'])):\n",
    "                        \n",
    "                    print(f'Fetching artist {count}/{len(artist_id_list)} data, {entries} entries on Songkick...', end='\\r', flush=True)\n",
    "\n",
    "        \n",
    "                    band = artist[1]\n",
    "                    b_id = artist[0]\n",
    "                    bill = result['resultsPage']['results']['event'][i]['performance'][0]['billing']\n",
    "                    name = result['resultsPage']['results']['event'][i]['displayName']\n",
    "                    date = result['resultsPage']['results']['event'][i]['start']['date']\n",
    "                    time = result['resultsPage']['results']['event'][i]['start']['time']\n",
    "                    city = result['resultsPage']['results']['event'][i]['location']['city']\n",
    "                    venu = result['resultsPage']['results']['event'][i]['venue']['displayName']\n",
    "                    lat = result['resultsPage']['results']['event'][i]['venue']['lat'] \n",
    "                    lng = result['resultsPage']['results']['event'][i]['venue']['lng'] \n",
    "        \n",
    "                \n",
    "\n",
    "                    \n",
    "                    artist_data.append([band, b_id, bill, name, date, time, city, venu, lat, lng, founded, dissolved, origin, genre_list[0].strip().title(), genre_list[1].strip().title()])\n",
    "\n",
    "   \n",
    "    return artist_data"
   ]
  },
  {
   "cell_type": "code",
   "execution_count": null,
   "metadata": {
    "ExecuteTime": {
     "end_time": "2020-03-15T17:51:58.985268Z",
     "start_time": "2020-03-15T17:51:58.981254Z"
    },
    "code_folding": [
     0
    ]
   },
   "outputs": [],
   "source": [
    "def get_shows_data(n=10, genres= '' , artists = None):\n",
    "    '''\n",
    "    This function returns an organized Dataframe which contains information about all the shows played\n",
    "    by that artist over its history. Contains the following variables:\n",
    "        n = type int: Tells the function hoy many artists to get info\n",
    "        \n",
    "        genre = type str or type list: Tells the function which genre (or genres) of music to scrape\n",
    "        \n",
    "        apikey = type str: (needed) your Songkick API key\n",
    "        \n",
    "        artist = type str or type lst: By default, set to None. This means that artist will be chosen\n",
    "                               \n",
    "        based on all-time popularity. If specified, tells what artist to scrape'''\n",
    "        \n",
    "    if artists == None:\n",
    "\n",
    "        artists = artist_scrape(n=n, genres=genres)\n",
    "    \n",
    "    \n",
    "    ids = songkick_artist_id(artists)\n",
    "    \n",
    "    data = collect_data(ids)\n",
    "    \n",
    "    print('\\n\\n-Done-')\n",
    "    \n",
    "    return data"
   ]
  },
  {
   "cell_type": "code",
   "execution_count": null,
   "metadata": {
    "ExecuteTime": {
     "end_time": "2020-03-15T17:51:58.996802Z",
     "start_time": "2020-03-15T17:51:58.987352Z"
    },
    "code_folding": []
   },
   "outputs": [],
   "source": [
    "def shows_dataframe(data):\n",
    "    \n",
    "    df = pd.DataFrame(data)\n",
    "    \n",
    "    df.columns = ['artist', 'artist_id', 'relevance', 'show_name', 'date', 'time', 'city', 'venue', 'lat', 'lng', 'founded', 'dissolved', 'origin', 'genre_1', 'genre_2']\n",
    "    \n",
    "    cols = ['date', 'time']\n",
    "    df[cols] = df[cols].apply(pd.to_datetime, errors='coerce')\n",
    "    \n",
    "    cols = ['lat', 'lng']\n",
    "    df[cols] = df[cols].apply(pd.to_numeric, errors='coerce')\n",
    "    \n",
    "    cols = ['founded']\n",
    "    \n",
    "    df[cols] = df[cols].apply(pd.to_datetime, errors='ignore')\n",
    "    df['founded'] = pd.DatetimeIndex(df['founded']).year\n",
    "    \n",
    "    df['dissolved'] = pd.to_numeric(df.dissolved, errors = 'ignore')\n",
    "    \n",
    "    df['years_active'] = ''\n",
    "    \n",
    "    today = date.today()\n",
    "    year = today.year\n",
    "    \n",
    "    for index, row in df.iterrows():\n",
    "        \n",
    "        if row.dissolved == None:\n",
    "\n",
    "            df.at[index , 'dissolved'] = 'Still Active'\n",
    "        \n",
    "        else:\n",
    "\n",
    "            if row.dissolved == 'Still active':\n",
    "                df.at[index , 'years_active'] = 2020 - row.founded\n",
    "        \n",
    "            else:\n",
    "                row.dissolved = int(row.dissolved)\n",
    "                df.at[index , 'years_active'] = row.dissolved - row.founded\n",
    "\n",
    "            \n",
    "            \n",
    "    return df[['artist', 'date', 'venue', 'city', 'lat', 'lng', 'relevance', 'founded', 'origin', 'dissolved', 'years_active', 'genre_1', 'genre_2']]"
   ]
  },
  {
   "cell_type": "markdown",
   "metadata": {},
   "source": []
  },
  {
   "cell_type": "code",
   "execution_count": null,
   "metadata": {
    "ExecuteTime": {
     "end_time": "2020-03-15T21:45:18.912239Z",
     "start_time": "2020-03-15T19:23:21.553131Z"
    }
   },
   "outputs": [],
   "source": [
    "data = get_shows_data(n=1300)"
   ]
  },
  {
   "cell_type": "code",
   "execution_count": null,
   "metadata": {
    "ExecuteTime": {
     "end_time": "2020-03-15T23:48:35.910929Z",
     "start_time": "2020-03-15T23:46:54.584321Z"
    }
   },
   "outputs": [],
   "source": [
    "df = shows_dataframe(data)"
   ]
  },
  {
   "cell_type": "code",
   "execution_count": null,
   "metadata": {
    "ExecuteTime": {
     "end_time": "2020-03-15T23:52:33.014205Z",
     "start_time": "2020-03-15T23:52:24.843004Z"
    }
   },
   "outputs": [],
   "source": [
    "# df.to_csv('concerts.csv')"
   ]
  },
  {
   "cell_type": "code",
   "execution_count": null,
   "metadata": {
    "ExecuteTime": {
     "end_time": "2020-03-15T17:52:28.771371Z",
     "start_time": "2020-03-15T17:51:57.814Z"
    }
   },
   "outputs": [],
   "source": [
    "# df = pd.read_csv('concerts.csv')"
   ]
  },
  {
   "cell_type": "markdown",
   "metadata": {},
   "source": [
    "\n",
    "\n",
    "\n",
    "\n",
    "\n",
    "\n",
    "\n",
    "\n",
    "\n",
    "\n",
    "\n",
    "\n",
    "\n",
    "\n",
    "\n",
    "\n",
    "\n",
    "\n",
    "\n",
    "\n",
    "\n",
    "\n",
    "\n",
    "\n",
    "\n",
    "\n",
    "\n",
    "\n",
    "\n",
    "\n",
    "\n",
    "\n",
    "\n",
    "\n",
    "\n",
    "\n",
    "\n",
    "\n",
    "\n",
    "\n",
    "\n",
    "\n",
    "\n",
    "\n",
    "\n",
    "\n",
    "\n",
    "\n",
    "\n",
    "\n",
    "\n",
    "\n",
    "\n",
    "\n",
    "\n",
    "\n",
    "\n",
    "\n",
    "\n",
    "\n",
    "## Filling coordinates (lat, lng) from venue, city"
   ]
  },
  {
   "cell_type": "code",
   "execution_count": null,
   "metadata": {
    "ExecuteTime": {
     "end_time": "2020-03-15T17:52:28.772925Z",
     "start_time": "2020-03-15T17:51:57.819Z"
    }
   },
   "outputs": [],
   "source": [
    "# geolocator = Nominatim()"
   ]
  },
  {
   "cell_type": "code",
   "execution_count": null,
   "metadata": {
    "ExecuteTime": {
     "end_time": "2020-03-15T17:52:28.774838Z",
     "start_time": "2020-03-15T17:51:57.822Z"
    }
   },
   "outputs": [],
   "source": [
    "# missing_coords = df[df_original.lat.isnull()]"
   ]
  },
  {
   "cell_type": "code",
   "execution_count": null,
   "metadata": {
    "ExecuteTime": {
     "end_time": "2020-03-15T17:52:28.776782Z",
     "start_time": "2020-03-15T17:51:57.825Z"
    }
   },
   "outputs": [],
   "source": [
    "# for index, row in missing_coords.iterrows():\n",
    "#     print(row['lat'])\n",
    "#     location = geolocator.geocode(row['city'])\n",
    "#     df_original.at[index , 'lat'] = location.latitude\n",
    "#     df_original.at[index , 'lng'] = location.longitude"
   ]
  }
 ],
 "metadata": {
  "kernelspec": {
   "display_name": "Python 3",
   "language": "python",
   "name": "python3"
  },
  "language_info": {
   "codemirror_mode": {
    "name": "ipython",
    "version": 3
   },
   "file_extension": ".py",
   "mimetype": "text/x-python",
   "name": "python",
   "nbconvert_exporter": "python",
   "pygments_lexer": "ipython3",
   "version": "3.7.4"
  },
  "toc": {
   "base_numbering": 1,
   "nav_menu": {},
   "number_sections": true,
   "sideBar": true,
   "skip_h1_title": false,
   "title_cell": "Table of Contents",
   "title_sidebar": "Contents",
   "toc_cell": false,
   "toc_position": {},
   "toc_section_display": true,
   "toc_window_display": false
  },
  "varInspector": {
   "cols": {
    "lenName": 16,
    "lenType": 16,
    "lenVar": 40
   },
   "kernels_config": {
    "python": {
     "delete_cmd_postfix": "",
     "delete_cmd_prefix": "del ",
     "library": "var_list.py",
     "varRefreshCmd": "print(var_dic_list())"
    },
    "r": {
     "delete_cmd_postfix": ") ",
     "delete_cmd_prefix": "rm(",
     "library": "var_list.r",
     "varRefreshCmd": "cat(var_dic_list()) "
    }
   },
   "types_to_exclude": [
    "module",
    "function",
    "builtin_function_or_method",
    "instance",
    "_Feature"
   ],
   "window_display": false
  }
 },
 "nbformat": 4,
 "nbformat_minor": 2
}
