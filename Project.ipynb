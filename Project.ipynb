{
 "cells": [
  {
   "cell_type": "code",
   "execution_count": 1,
   "metadata": {
    "ExecuteTime": {
     "end_time": "2020-03-13T11:28:38.654397Z",
     "start_time": "2020-03-13T11:28:38.651736Z"
    }
   },
   "outputs": [],
   "source": [
    "import sys\n",
    "sys.path.append('/Users/Sosa/Repos/project-visualizing-real-world-data/')"
   ]
  },
  {
   "cell_type": "code",
   "execution_count": 2,
   "metadata": {
    "ExecuteTime": {
     "end_time": "2020-03-13T11:28:49.622527Z",
     "start_time": "2020-03-13T11:28:39.819155Z"
    }
   },
   "outputs": [],
   "source": [
    "import Test as shw"
   ]
  },
  {
   "cell_type": "code",
   "execution_count": null,
   "metadata": {
    "ExecuteTime": {
     "start_time": "2020-03-13T11:28:50.430Z"
    }
   },
   "outputs": [],
   "source": [
    "data = shw.get_shows_data(n=5, genres='Rock')"
   ]
  },
  {
   "cell_type": "code",
   "execution_count": 9,
   "metadata": {
    "ExecuteTime": {
     "end_time": "2020-03-10T20:06:22.381644Z",
     "start_time": "2020-03-10T20:06:22.365378Z"
    }
   },
   "outputs": [],
   "source": [
    "df = shw.shows_dataframe(data)"
   ]
  },
  {
   "cell_type": "code",
   "execution_count": 10,
   "metadata": {
    "ExecuteTime": {
     "end_time": "2020-03-10T20:06:25.849751Z",
     "start_time": "2020-03-10T20:06:25.837124Z"
    }
   },
   "outputs": [
    {
     "data": {
      "text/html": [
       "<div>\n",
       "<style scoped>\n",
       "    .dataframe tbody tr th:only-of-type {\n",
       "        vertical-align: middle;\n",
       "    }\n",
       "\n",
       "    .dataframe tbody tr th {\n",
       "        vertical-align: top;\n",
       "    }\n",
       "\n",
       "    .dataframe thead th {\n",
       "        text-align: right;\n",
       "    }\n",
       "</style>\n",
       "<table border=\"1\" class=\"dataframe\">\n",
       "  <thead>\n",
       "    <tr style=\"text-align: right;\">\n",
       "      <th></th>\n",
       "      <th>artist</th>\n",
       "      <th>date</th>\n",
       "      <th>time</th>\n",
       "      <th>venue</th>\n",
       "      <th>city</th>\n",
       "      <th>lat</th>\n",
       "      <th>lng</th>\n",
       "      <th>relevance</th>\n",
       "    </tr>\n",
       "  </thead>\n",
       "  <tbody>\n",
       "    <tr>\n",
       "      <td>0</td>\n",
       "      <td>Daft Punk</td>\n",
       "      <td>1995-10-12</td>\n",
       "      <td>NaT</td>\n",
       "      <td>Astoria</td>\n",
       "      <td>London, UK</td>\n",
       "      <td>51.515885</td>\n",
       "      <td>-0.130471</td>\n",
       "      <td>headline</td>\n",
       "    </tr>\n",
       "    <tr>\n",
       "      <td>1</td>\n",
       "      <td>Daft Punk</td>\n",
       "      <td>1996-05-24</td>\n",
       "      <td>NaT</td>\n",
       "      <td>Unknown venue</td>\n",
       "      <td>Blue River, WI, US</td>\n",
       "      <td>NaN</td>\n",
       "      <td>NaN</td>\n",
       "      <td>headline</td>\n",
       "    </tr>\n",
       "    <tr>\n",
       "      <td>2</td>\n",
       "      <td>Daft Punk</td>\n",
       "      <td>1996-06-29</td>\n",
       "      <td>NaT</td>\n",
       "      <td>Unknown venue</td>\n",
       "      <td>Luton, UK</td>\n",
       "      <td>51.878670</td>\n",
       "      <td>-0.420030</td>\n",
       "      <td>headline</td>\n",
       "    </tr>\n",
       "    <tr>\n",
       "      <td>3</td>\n",
       "      <td>Daft Punk</td>\n",
       "      <td>1997-01-18</td>\n",
       "      <td>NaT</td>\n",
       "      <td>The Stage Door</td>\n",
       "      <td>Stoke On Trent, UK</td>\n",
       "      <td>53.025033</td>\n",
       "      <td>-2.178129</td>\n",
       "      <td>headline</td>\n",
       "    </tr>\n",
       "    <tr>\n",
       "      <td>4</td>\n",
       "      <td>Daft Punk</td>\n",
       "      <td>1997-05-24</td>\n",
       "      <td>NaT</td>\n",
       "      <td>Unknown venue</td>\n",
       "      <td>Luton, UK</td>\n",
       "      <td>51.878671</td>\n",
       "      <td>-0.420025</td>\n",
       "      <td>headline</td>\n",
       "    </tr>\n",
       "  </tbody>\n",
       "</table>\n",
       "</div>"
      ],
      "text/plain": [
       "      artist        date time           venue                city        lat  \\\n",
       "0  Daft Punk  1995-10-12  NaT         Astoria          London, UK  51.515885   \n",
       "1  Daft Punk  1996-05-24  NaT   Unknown venue  Blue River, WI, US        NaN   \n",
       "2  Daft Punk  1996-06-29  NaT   Unknown venue           Luton, UK  51.878670   \n",
       "3  Daft Punk  1997-01-18  NaT  The Stage Door  Stoke On Trent, UK  53.025033   \n",
       "4  Daft Punk  1997-05-24  NaT   Unknown venue           Luton, UK  51.878671   \n",
       "\n",
       "        lng relevance  \n",
       "0 -0.130471  headline  \n",
       "1       NaN  headline  \n",
       "2 -0.420030  headline  \n",
       "3 -2.178129  headline  \n",
       "4 -0.420025  headline  "
      ]
     },
     "execution_count": 10,
     "metadata": {},
     "output_type": "execute_result"
    }
   ],
   "source": [
    "df.head()"
   ]
  },
  {
   "cell_type": "code",
   "execution_count": 11,
   "metadata": {
    "ExecuteTime": {
     "end_time": "2020-03-10T20:06:39.522555Z",
     "start_time": "2020-03-10T20:06:39.508721Z"
    }
   },
   "outputs": [
    {
     "data": {
      "text/html": [
       "<div>\n",
       "<style scoped>\n",
       "    .dataframe tbody tr th:only-of-type {\n",
       "        vertical-align: middle;\n",
       "    }\n",
       "\n",
       "    .dataframe tbody tr th {\n",
       "        vertical-align: top;\n",
       "    }\n",
       "\n",
       "    .dataframe thead th {\n",
       "        text-align: right;\n",
       "    }\n",
       "</style>\n",
       "<table border=\"1\" class=\"dataframe\">\n",
       "  <thead>\n",
       "    <tr style=\"text-align: right;\">\n",
       "      <th></th>\n",
       "      <th>date</th>\n",
       "      <th>time</th>\n",
       "      <th>venue</th>\n",
       "      <th>city</th>\n",
       "      <th>lat</th>\n",
       "      <th>lng</th>\n",
       "      <th>relevance</th>\n",
       "    </tr>\n",
       "    <tr>\n",
       "      <th>artist</th>\n",
       "      <th></th>\n",
       "      <th></th>\n",
       "      <th></th>\n",
       "      <th></th>\n",
       "      <th></th>\n",
       "      <th></th>\n",
       "      <th></th>\n",
       "    </tr>\n",
       "  </thead>\n",
       "  <tbody>\n",
       "    <tr>\n",
       "      <td>Daft Punk</td>\n",
       "      <td>79</td>\n",
       "      <td>1</td>\n",
       "      <td>79</td>\n",
       "      <td>79</td>\n",
       "      <td>61</td>\n",
       "      <td>61</td>\n",
       "      <td>79</td>\n",
       "    </tr>\n",
       "    <tr>\n",
       "      <td>Kanye West</td>\n",
       "      <td>467</td>\n",
       "      <td>250</td>\n",
       "      <td>467</td>\n",
       "      <td>467</td>\n",
       "      <td>424</td>\n",
       "      <td>424</td>\n",
       "      <td>467</td>\n",
       "    </tr>\n",
       "    <tr>\n",
       "      <td>Stardust</td>\n",
       "      <td>310</td>\n",
       "      <td>39</td>\n",
       "      <td>310</td>\n",
       "      <td>310</td>\n",
       "      <td>275</td>\n",
       "      <td>275</td>\n",
       "      <td>310</td>\n",
       "    </tr>\n",
       "    <tr>\n",
       "      <td>Wu-Tang Clan</td>\n",
       "      <td>503</td>\n",
       "      <td>342</td>\n",
       "      <td>503</td>\n",
       "      <td>503</td>\n",
       "      <td>464</td>\n",
       "      <td>464</td>\n",
       "      <td>503</td>\n",
       "    </tr>\n",
       "  </tbody>\n",
       "</table>\n",
       "</div>"
      ],
      "text/plain": [
       "              date  time  venue  city  lat  lng  relevance\n",
       "artist                                                    \n",
       "Daft Punk       79     1     79    79   61   61         79\n",
       "Kanye West     467   250    467   467  424  424        467\n",
       "Stardust       310    39    310   310  275  275        310\n",
       "Wu-Tang Clan   503   342    503   503  464  464        503"
      ]
     },
     "execution_count": 11,
     "metadata": {},
     "output_type": "execute_result"
    }
   ],
   "source": [
    "df.groupby('artist').count()"
   ]
  },
  {
   "cell_type": "code",
   "execution_count": null,
   "metadata": {},
   "outputs": [],
   "source": []
  }
 ],
 "metadata": {
  "kernelspec": {
   "display_name": "Python 3",
   "language": "python",
   "name": "python3"
  },
  "language_info": {
   "codemirror_mode": {
    "name": "ipython",
    "version": 3
   },
   "file_extension": ".py",
   "mimetype": "text/x-python",
   "name": "python",
   "nbconvert_exporter": "python",
   "pygments_lexer": "ipython3",
   "version": "3.7.4"
  },
  "toc": {
   "base_numbering": 1,
   "nav_menu": {},
   "number_sections": true,
   "sideBar": true,
   "skip_h1_title": false,
   "title_cell": "Table of Contents",
   "title_sidebar": "Contents",
   "toc_cell": false,
   "toc_position": {},
   "toc_section_display": true,
   "toc_window_display": false
  },
  "varInspector": {
   "cols": {
    "lenName": 16,
    "lenType": 16,
    "lenVar": 40
   },
   "kernels_config": {
    "python": {
     "delete_cmd_postfix": "",
     "delete_cmd_prefix": "del ",
     "library": "var_list.py",
     "varRefreshCmd": "print(var_dic_list())"
    },
    "r": {
     "delete_cmd_postfix": ") ",
     "delete_cmd_prefix": "rm(",
     "library": "var_list.r",
     "varRefreshCmd": "cat(var_dic_list()) "
    }
   },
   "types_to_exclude": [
    "module",
    "function",
    "builtin_function_or_method",
    "instance",
    "_Feature"
   ],
   "window_display": false
  }
 },
 "nbformat": 4,
 "nbformat_minor": 2
}
